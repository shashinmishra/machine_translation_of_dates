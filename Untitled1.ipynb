{
 "cells": [
  {
   "cell_type": "code",
   "execution_count": 1,
   "metadata": {},
   "outputs": [
    {
     "name": "stderr",
     "output_type": "stream",
     "text": [
      "Using TensorFlow backend.\n"
     ]
    }
   ],
   "source": [
    "import tensorflow as tf\n",
    "import keras as K\n",
    "import pydot\n",
    "import numpy as np\n",
    "import babel as bb"
   ]
  },
  {
   "cell_type": "code",
   "execution_count": 2,
   "metadata": {},
   "outputs": [
    {
     "name": "stdout",
     "output_type": "stream",
     "text": [
      "Keras Version is:  2.0.7\n",
      "Tensorflow Version is:  1.2.1\n",
      "Pydot Version is:  1.2.4\n",
      "Numpy Version is:  1.11.3\n",
      "Babel Version is:  2.5.3\n"
     ]
    }
   ],
   "source": [
    "print (\"Keras Version is: \", K.__version__)\n",
    "print (\"Tensorflow Version is: \", tf.__version__)\n",
    "print(\"Pydot Version is: \", pydot.__version__)\n",
    "print(\"Numpy Version is: \", np.__version__)\n",
    "print(\"Babel Version is: \", bb.__version__)"
   ]
  },
  {
   "cell_type": "code",
   "execution_count": null,
   "metadata": {},
   "outputs": [],
   "source": []
  }
 ],
 "metadata": {
  "kernelspec": {
   "display_name": "Python 3",
   "language": "python",
   "name": "python3"
  },
  "language_info": {
   "codemirror_mode": {
    "name": "ipython",
    "version": 3
   },
   "file_extension": ".py",
   "mimetype": "text/x-python",
   "name": "python",
   "nbconvert_exporter": "python",
   "pygments_lexer": "ipython3",
   "version": "3.6.5"
  }
 },
 "nbformat": 4,
 "nbformat_minor": 2
}
